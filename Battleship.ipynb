{
 "cells": [
  {
   "cell_type": "code",
   "execution_count": 22,
   "metadata": {},
   "outputs": [],
   "source": [
    "import numpy as np\n",
    "import matplotlib.pyplot as plt"
   ]
  },
  {
   "cell_type": "code",
   "execution_count": 91,
   "metadata": {},
   "outputs": [],
   "source": [
    "class Game():\n",
    "    \"\"\" Class that construct the Game.\n",
    "    \n",
    "    \"\"\"\n",
    "    \n",
    "    def __init__(self):\n",
    "        self.N_board = input(\"Size of the Board: \")\n",
    "        self.Player_1 = self.Player(int(self.N_board))\n",
    "        self.Player_2 = self.Player(int(self.N_board))\n",
    "        self.End = False\n",
    "        \n",
    "    def Hit_Opponent(self, Attacker, Defender):\n",
    "        \"\"\"Function to define an attack on the\n",
    "        Opponent Board.\n",
    "        \n",
    "        Parameters\n",
    "        -------------------------------------\n",
    "        Attacker: Player that attacked.\n",
    "        Defender: Player that is Defending.\n",
    "        \"\"\"\n",
    "        Hit_x = input(\"Position of the attack on the X axis: \")\n",
    "        Hit_y = input(\"Position of the attack on the Y axis: \")\n",
    "        if Defender.Board_player[int(Hit_x),int(Hit_y)] == 1:\n",
    "            print(\"\\n Hit\")\n",
    "            Defender.Board_player[int(Hit_x),int(Hit_y)] = 2\n",
    "            Attacker.Board_Opponent[int(Hit_x),int(Hit_y)] = 2\n",
    "        \n",
    "        elif Defender.Board_player[int(Hit_x),int(Hit_y)] == 0:\n",
    "            print(\"\\n Miss\")\n",
    "            Attacker.Board_Opponent[int(Hit_x),int(Hit_y)] = 1\n",
    "        \n",
    "        else:\n",
    "            print(\"\\n You already attacked here. Try Again\")\n",
    "            self.Hit_Opponent(Attacker, Defender)\n",
    "    \n",
    "    def Win_Condition(self):\n",
    "        \"\"\"Function to check if the game has ended.\n",
    "        \"\"\"\n",
    "        A = self.Player_1.Board_player == 1\n",
    "        B = self.Player_2.Board_player == 1\n",
    "        if not A.any():\n",
    "            print(\"Player 2 Wins!\")\n",
    "            self.End = True\n",
    "        \n",
    "        elif not B.any():\n",
    "            print(\"Player 1 Wins!\")\n",
    "            self.End = True\n",
    "            \n",
    "    class Player():\n",
    "        \"\"\" Class that construct the player board for the battleship\n",
    "        Game.\n",
    "        \n",
    "        Parameters\n",
    "        ------------------------------------------\n",
    "        N(int): Size of the board.\n",
    "        \n",
    "        \"\"\"\n",
    "        def __init__(self, N):\n",
    "            self.N = N\n",
    "            self.Board_player = np.zeros((N,N))\n",
    "            self.Board_Opponent = np.zeros((N,N))\n",
    "            \n",
    "        def Place_Boat_1(self):\n",
    "            \"\"\"Function to put the Boat of type 1.\n",
    "            \"\"\"\n",
    "            Boat_1_x = input(\"Position of the first Boat on the X axis: \")\n",
    "            Boat_1_y = input(\"Position of the first Boat on the Y axis: \")\n",
    "            self.Board_player[int(Boat_1_x),int(Boat_1_y)] = 1\n",
    "            \n",
    "        def Visualization_Player_Board(self):\n",
    "            \"\"\"Function to show player board.\n",
    "            \n",
    "            \"\"\"\n",
    "            plt.xticks(range(self.N))\n",
    "            plt.yticks(range(self.N))\n",
    "            plt.imshow(self.Board_player)\n",
    "            \n",
    "        def Visualization_Opponent_Board(self):\n",
    "            \"\"\"Function to show Opponent board.\n",
    "            \n",
    "            \"\"\"\n",
    "            plt.xticks(range(self.N))\n",
    "            plt.yticks(range(self.N))\n",
    "            plt.imshow(self.Board_Opponent)\n",
    "            "
   ]
  },
  {
   "cell_type": "code",
   "execution_count": 92,
   "metadata": {},
   "outputs": [
    {
     "name": "stdin",
     "output_type": "stream",
     "text": [
      "Size of the Board:  2\n"
     ]
    }
   ],
   "source": [
    "out = Game()"
   ]
  },
  {
   "cell_type": "code",
   "execution_count": 93,
   "metadata": {},
   "outputs": [
    {
     "name": "stdin",
     "output_type": "stream",
     "text": [
      "Position of the first Boat on the X axis:  1\n",
      "Position of the first Boat on the Y axis:  1\n"
     ]
    }
   ],
   "source": [
    "out.Player_1.Place_Boat_1()"
   ]
  },
  {
   "cell_type": "code",
   "execution_count": 82,
   "metadata": {},
   "outputs": [
    {
     "name": "stdin",
     "output_type": "stream",
     "text": [
      "Position of the first Boat on the X axis:  1\n",
      "Position of the first Boat on the Y axis:  1\n"
     ]
    }
   ],
   "source": [
    "out.Player_2.Place_Boat_1()"
   ]
  },
  {
   "cell_type": "code",
   "execution_count": 94,
   "metadata": {},
   "outputs": [
    {
     "name": "stdout",
     "output_type": "stream",
     "text": [
      "Player 1 Wins!\n"
     ]
    }
   ],
   "source": [
    "out.Win_Condition()"
   ]
  },
  {
   "cell_type": "code",
   "execution_count": 95,
   "metadata": {},
   "outputs": [
    {
     "name": "stdin",
     "output_type": "stream",
     "text": [
      "Position of the attack on the X axis:  1\n",
      "Position of the attack on the Y axis:  1\n"
     ]
    },
    {
     "name": "stdout",
     "output_type": "stream",
     "text": [
      "\n",
      " Miss\n"
     ]
    }
   ],
   "source": [
    "out.Hit_Opponent(out.Player_1, out.Player_2)"
   ]
  },
  {
   "cell_type": "code",
   "execution_count": 84,
   "metadata": {},
   "outputs": [
    {
     "name": "stdin",
     "output_type": "stream",
     "text": [
      "Position of the attack on the X axis:  1\n",
      "Position of the attack on the Y axis:  1\n"
     ]
    },
    {
     "name": "stdout",
     "output_type": "stream",
     "text": [
      "\n",
      " Hit\n"
     ]
    }
   ],
   "source": [
    "out.Hit_Opponent(out.Player_2, out.Player_1)"
   ]
  },
  {
   "cell_type": "code",
   "execution_count": 96,
   "metadata": {},
   "outputs": [
    {
     "data": {
      "image/png": "[encoded data removed]",
      "text/plain": [
       "<Figure size 432x288 with 1 Axes>"
      ]
     },
     "metadata": {
      "needs_background": "light"
     },
     "output_type": "display_data"
    }
   ],
   "source": [
    "out.Player_1.Visualization_Opponent_Board()"
   ]
  },
  {
   "cell_type": "code",
   "execution_count": 34,
   "metadata": {},
   "outputs": [
    {
     "data": {
      "image/png": "[encoded data removed]",
      "text/plain": [
       "<Figure size 432x288 with 1 Axes>"
      ]
     },
     "metadata": {
      "needs_background": "light"
     },
     "output_type": "display_data"
    }
   ],
   "source": [
    "A.Visualization_Player_Board()"
   ]
  },
  {
   "cell_type": "code",
   "execution_count": null,
   "metadata": {},
   "outputs": [],
   "source": []
  }
 ],
 "metadata": {
  "kernelspec": {
   "display_name": "Python 3",
   "language": "python",
   "name": "python3"
  },
  "language_info": {
   "codemirror_mode": {
    "name": "ipython",
    "version": 3
   },
   "file_extension": ".py",
   "mimetype": "text/x-python",
   "name": "python",
   "nbconvert_exporter": "python",
   "pygments_lexer": "ipython3",
   "version": "3.6.8"
  }
 },
 "nbformat": 4,
 "nbformat_minor": 2
}
